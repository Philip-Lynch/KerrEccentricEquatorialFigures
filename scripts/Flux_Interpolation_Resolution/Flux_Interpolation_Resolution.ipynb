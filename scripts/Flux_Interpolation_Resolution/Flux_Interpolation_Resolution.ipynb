{
 "cells": [
  {
   "cell_type": "code",
   "execution_count": 81,
   "metadata": {},
   "outputs": [],
   "source": [
    "import matplotlib.pyplot as plt\n",
    "import numpy as np\n",
    "from few.trajectory.inspiral import EMRIInspiral\n",
    "\n",
    "from few.utils.constants import YRSID_SI\n",
    "\n",
    "#Importing Flux Trajectory\n",
    "from few.trajectory.ode import KerrEccEqFlux,SchwarzEccFlux,PN5\n",
    "flux_traj = EMRIInspiral(func=KerrEccEqFlux)\n",
    "\n",
    "# Importing 5PN Trajectory\n",
    "from few.trajectory.ode import PN5\n",
    "PN_traj = EMRIInspiral(func=PN5)\n",
    "\n",
    "%matplotlib inline"
   ]
  },
  {
   "cell_type": "code",
   "execution_count": 82,
   "metadata": {},
   "outputs": [],
   "source": [
    "full_grid = PN5()"
   ]
  },
  {
   "cell_type": "code",
   "execution_count": 83,
   "metadata": {},
   "outputs": [],
   "source": [
    "skip_points = 16\n",
    "half_grid = PN5(downsample=[(skip_points, skip_points, skip_points), (skip_points, skip_points, skip_points)])"
   ]
  },
  {
   "cell_type": "code",
   "execution_count": 84,
   "metadata": {},
   "outputs": [],
   "source": [
    "full_grid = EMRIInspiral(func=KerrEccEqFlux)"
   ]
  },
  {
   "cell_type": "code",
   "execution_count": 3,
   "metadata": {},
   "outputs": [],
   "source": [
    "half_grid = EMRIInspiral(func=KerrEccEqFlux,downsample=[(2, 2, 2), (2, 2, 2)] )"
   ]
  },
  {
   "cell_type": "code",
   "execution_count": 79,
   "metadata": {},
   "outputs": [],
   "source": [
    "M = 1e6  # Solar masses\n",
    "mu = 1e1  # Solar masses\n",
    "# At large p, spin is irrelevant (hopefully)\n",
    "a = 0.991234\n",
    "x = 1\n",
    "\n",
    "full_grid.add_fixed_parameters(M, mu, a)\n",
    "\n",
    "half_grid.add_fixed_parameters(M, mu, a)"
   ]
  },
  {
   "cell_type": "code",
   "execution_count": 80,
   "metadata": {},
   "outputs": [
    {
     "data": {
      "text/plain": [
       "[array([0., 0., 0., 0., 0., 0.])]"
      ]
     },
     "execution_count": 80,
     "metadata": {},
     "output_type": "execute_result"
    }
   ],
   "source": [
    "p = 10.1234\n",
    "e = 0.51234\n",
    "x = 1.\n",
    "[full_grid([p,e,x]) - half_grid([p,e,x]) ]"
   ]
  },
  {
   "cell_type": "code",
   "execution_count": 85,
   "metadata": {},
   "outputs": [],
   "source": [
    "full_grid = EMRIInspiral(func=KerrEccEqFlux)"
   ]
  },
  {
   "cell_type": "code",
   "execution_count": 92,
   "metadata": {},
   "outputs": [],
   "source": [
    "skip_points = 8\n",
    "half_grid = EMRIInspiral(func=KerrEccEqFlux,downsample=[(skip_points, skip_points, skip_points), (skip_points, skip_points, skip_points)] )"
   ]
  },
  {
   "cell_type": "code",
   "execution_count": 93,
   "metadata": {},
   "outputs": [],
   "source": [
    "# Mass ratio 1e-5\n",
    "M = 1e6\n",
    "mu = 1e1 \n",
    "\n",
    "p0 = 10. # As stated in figure description\n",
    "xI0 = 1.  # Fixed for equatorial mode;\n",
    "\n",
    "# Can play around with these two\n",
    "a = 0.9  \n",
    "e0 = 0.5\n",
    "\n",
    "\n",
    "T = 4.  # duration of trajectory in years (as defined by few.utils.constants.YRSID_SI)\n",
    "\n",
    "traj_pars = [M, mu, a, p0, e0, xI0]"
   ]
  },
  {
   "cell_type": "code",
   "execution_count": 94,
   "metadata": {},
   "outputs": [],
   "source": [
    "t, p, e, xI, Phi_phi, Phi_theta, Phi_r = full_grid(*traj_pars, T=T,err=1e-12)"
   ]
  },
  {
   "cell_type": "code",
   "execution_count": 95,
   "metadata": {},
   "outputs": [],
   "source": [
    "t2, p2, e2, xI2, Phi_phi2, Phi_theta2, Phi_r2 = half_grid(*traj_pars, T=T,err=1e-12)"
   ]
  },
  {
   "cell_type": "code",
   "execution_count": 96,
   "metadata": {},
   "outputs": [
    {
     "data": {
      "text/plain": [
       "np.float64(-7.62359274586197)"
      ]
     },
     "execution_count": 96,
     "metadata": {},
     "output_type": "execute_result"
    }
   ],
   "source": [
    "(Phi_phi[-1]-Phi_phi2[-1])"
   ]
  },
  {
   "cell_type": "code",
   "execution_count": 2,
   "metadata": {},
   "outputs": [],
   "source": [
    "from few.utils.utility import ( \n",
    "    get_mismatch, \n",
    "    get_fundamental_frequencies, \n",
    "    get_separatrix, \n",
    "    get_mu_at_t, \n",
    "    get_p_at_t, \n",
    "    get_kerr_geo_constants_of_motion,\n",
    "    ELQ_to_pex,\n",
    "    )\n",
    "\n",
    "from few.utils.ylm import GetYlms\n",
    "from few.utils.modeselector import ModeSelector\n",
    "from few.summation.interpolatedmodesum import CubicSplineInterpolant, InterpolatedModeSum\n",
    "from few.summation.directmodesum import DirectModeSum\n",
    "from few.summation.aakwave import AAKSummation\n",
    "from few.utils.constants import *\n",
    "\n",
    "from few.waveform import (\n",
    "    FastSchwarzschildEccentricFlux, \n",
    "    SlowSchwarzschildEccentricFlux,\n",
    "    FastKerrEccentricEquatorialFlux, \n",
    "    Pn5AAKWaveform,\n",
    "    GenerateEMRIWaveform\n",
    ")\n",
    "from few.waveform.base import SphericalHarmonicWaveformBase, AAKWaveformBase"
   ]
  },
  {
   "cell_type": "code",
   "execution_count": 3,
   "metadata": {},
   "outputs": [],
   "source": [
    "full_flux = KerrEccEqFlux()\n",
    "\n",
    "skip_points = 16\n",
    "downsampled_flux = KerrEccEqFlux(downsample=[(skip_points, skip_points, skip_points), (skip_points, skip_points, skip_points)])"
   ]
  },
  {
   "cell_type": "code",
   "execution_count": 23,
   "metadata": {},
   "outputs": [],
   "source": [
    "# keyword arguments for inspiral generator (EMRIInspiral)\n",
    "inspiral_kwargs={\n",
    "        \"DENSE_STEPPING\": 0,  # we want a sparsely sampled trajectory\n",
    "        \"func\": KerrEccEqFlux,  # the trajectory function\n",
    "        #\"buffer_length\": int(1e3),  # all of the trajectories will be well under len = 1000\n",
    "    }\n",
    "\n",
    "# keyword arguments for inspiral generator (RomanAmplitude)\n",
    "amplitude_kwargs = {\n",
    "    #\"buffer_length\": int(1e3),  # all of the trajectories will be well under len = 1000\n",
    "   # \"use_gpu\": use_gpu  # GPU is available in this class\n",
    "}\n",
    "\n",
    "# keyword arguments for Ylm generator (GetYlms)\n",
    "Ylm_kwargs = {\n",
    "    \"assume_positive_m\": True  # if we assume positive m, it will generate negative m for all m>0\n",
    "}\n",
    "\n",
    "# keyword arguments for summation generator (InterpolatedModeSum)\n",
    "sum_kwargs = {\n",
    "    #\"use_gpu\": use_gpu,  # GPU is available for this type of summation\n",
    "    \"pad_output\": False,\n",
    "}\n",
    "\n",
    "\n",
    "few = FastKerrEccentricEquatorialFlux(\n",
    "    inspiral_kwargs=inspiral_kwargs,\n",
    "    amplitude_kwargs=amplitude_kwargs,\n",
    "    Ylm_kwargs=Ylm_kwargs,\n",
    "    sum_kwargs=sum_kwargs,\n",
    "    #use_gpu=use_gpu,\n",
    ")"
   ]
  },
  {
   "cell_type": "code",
   "execution_count": 24,
   "metadata": {},
   "outputs": [],
   "source": [
    "full_flux = KerrEccEqFlux()"
   ]
  },
  {
   "cell_type": "code",
   "execution_count": null,
   "metadata": {},
   "outputs": [],
   "source": [
    "skip_points = 8\n",
    "downsampled_flux = KerrEccEqFlux(downsample=[(skip_points, skip_points, skip_points), (skip_points, skip_points, skip_points)])"
   ]
  },
  {
   "cell_type": "code",
   "execution_count": 40,
   "metadata": {},
   "outputs": [
    {
     "data": {
      "text/plain": [
       "array([-0.00541956, -0.00032867,  0.        ,  0.01621564,  0.01562367,\n",
       "        0.01311193])"
      ]
     },
     "execution_count": 40,
     "metadata": {},
     "output_type": "execute_result"
    }
   ],
   "source": [
    "a = 0.9\n",
    "full_flux.add_fixed_parameters(1, 1, a)\n",
    "downsampled_flux.add_fixed_parameters(1, 1, a)\n",
    "downsampled_flux([12.0, 0.5, 1.0])"
   ]
  },
  {
   "cell_type": "code",
   "execution_count": 41,
   "metadata": {},
   "outputs": [],
   "source": [
    "class KerrEccEqFluxDownsampled(KerrEccEqFlux):\n",
    "    def modify_rhs(self, ydot: np.ndarray, y: np.ndarray, **kwargs) -> np.ndarray:\n",
    "        downsampled_flux.add_fixed_parameters(1., 1., self.a)\n",
    "        ydotDS = downsampled_flux(y)\n",
    "        ydot[0] = ydotDS[0]\n",
    "        ydot[1] = ydotDS[1]\n",
    "        return ydot\n"
   ]
  },
  {
   "cell_type": "code",
   "execution_count": 42,
   "metadata": {},
   "outputs": [
    {
     "data": {
      "text/plain": [
       "array([-0.00541956, -0.00032867,  0.        ,  0.01621564,  0.01562367,\n",
       "        0.01311193])"
      ]
     },
     "execution_count": 42,
     "metadata": {},
     "output_type": "execute_result"
    }
   ],
   "source": [
    "downsampled_flux2 = KerrEccEqFluxDownsampled()\n",
    "\n",
    "downsampled_flux2.add_fixed_parameters(1, 1, a)\n",
    "downsampled_flux2([12.0, 0.5, 1.0])"
   ]
  },
  {
   "cell_type": "code",
   "execution_count": 43,
   "metadata": {},
   "outputs": [
    {
     "data": {
      "text/plain": [
       "array([0., 0., 0., 0., 0., 0.])"
      ]
     },
     "execution_count": 43,
     "metadata": {},
     "output_type": "execute_result"
    }
   ],
   "source": [
    "downsampled_flux2([12.0, 0.5, 1.0]) - downsampled_flux([12.0, 0.5, 1.0])"
   ]
  },
  {
   "cell_type": "code",
   "execution_count": 45,
   "metadata": {},
   "outputs": [
    {
     "data": {
      "text/plain": [
       "(np.float64(4.6143149745603296e-08), np.float64(3.655528746371317e-08))"
      ]
     },
     "execution_count": 45,
     "metadata": {},
     "output_type": "execute_result"
    }
   ],
   "source": [
    "(1- downsampled_flux2([12.0, 0.5, 1.0])[0] /full_flux([12.0, 0.5, 1.0])[0], 1- downsampled_flux2([12.0, 0.5, 1.0])[1] /full_flux([12.0, 0.5, 1.0])[1])"
   ]
  },
  {
   "cell_type": "code",
   "execution_count": 46,
   "metadata": {},
   "outputs": [],
   "source": [
    "inspiral_kwargs={\n",
    "        \"DENSE_STEPPING\": 0,  # we want a sparsely sampled trajectory\n",
    "        \"func\": KerrEccEqFluxDownsampled,  # the trajectory function\n",
    "        #\"buffer_length\": int(1e3),  # all of the trajectories will be well under len = 1000\n",
    "    }"
   ]
  },
  {
   "cell_type": "code",
   "execution_count": 47,
   "metadata": {},
   "outputs": [],
   "source": [
    "few_DS = FastKerrEccentricEquatorialFlux(\n",
    "    inspiral_kwargs=inspiral_kwargs,\n",
    "    amplitude_kwargs=amplitude_kwargs,\n",
    "    Ylm_kwargs=Ylm_kwargs,\n",
    "    sum_kwargs=sum_kwargs,\n",
    "    #use_gpu=use_gpu,\n",
    ")"
   ]
  },
  {
   "cell_type": "code",
   "execution_count": 48,
   "metadata": {},
   "outputs": [],
   "source": [
    "M = 1e6  # primary mass in solar masses\n",
    "mu = 1e1 # secondary mass in solar masses\n",
    "a = 0.9 # dimensionless spin of the primary\n",
    "p0 = 10 # initial semi-latus rectum\n",
    "e0 = 0.5 # eccentricity is ignored for circular orbits\n",
    "x0 = 1.0  # inclination is ignored for circular orbits\n",
    "qK = 0.8  # polar angle of Kerr spin angular momentum\n",
    "phiK = 0.2  # azimuthal angle of Kerr spin angular momentum\n",
    "theta = np.pi/3  # polar viewing angle\n",
    "phi = np.pi/4  # azimuthal viewing angle\n",
    "Phi_phi0 = 0.0 # initial azimuthal position of the secondary\n",
    "Phi_theta0 = 0. # ignored for circular orbits\n",
    "Phi_r0 = 0.0 # ignored for circular orbits\n",
    "dt = 10.0  # time steps in seconds\n",
    "T = 1.0  # waveform duration in years"
   ]
  },
  {
   "cell_type": "code",
   "execution_count": 34,
   "metadata": {},
   "outputs": [
    {
     "name": "stdout",
     "output_type": "stream",
     "text": [
      "p0 = 10.026493178676992 will create a waveform that is 4 years long, given the other input parameters.\n"
     ]
    }
   ],
   "source": [
    "traj_module = EMRIInspiral(func=KerrEccEqFlux)\n",
    "\n",
    "traj_args = [M, mu, a, e0, x0]\n",
    "traj_kwargs = {}\n",
    "index_of_p = 3\n",
    "\n",
    "t_out = 4\n",
    "# run trajectory\n",
    "p_new = get_p_at_t(\n",
    "    traj_module,\n",
    "    t_out,\n",
    "    traj_args,\n",
    "    index_of_p=3,\n",
    "    index_of_a=2,\n",
    "    index_of_e=4,\n",
    "    index_of_x=5,\n",
    "    traj_kwargs={},\n",
    "    xtol=2e-12,\n",
    "    rtol=8.881784197001252e-16,\n",
    "    bounds=None,\n",
    ")\n",
    "\n",
    "print('p0 = {} will create a waveform that is {} years long, given the other input parameters.'.format(p_new, t_out))"
   ]
  },
  {
   "cell_type": "code",
   "execution_count": 35,
   "metadata": {},
   "outputs": [],
   "source": [
    "fewWF = few(M, mu,a,p_new, e0,x0, theta, phi, dt=dt, T=t_out)"
   ]
  },
  {
   "cell_type": "code",
   "execution_count": 49,
   "metadata": {},
   "outputs": [],
   "source": [
    "fewDSWF = few_DS(M, mu,a,p_new, e0,x0, theta, phi, dt=dt, T=t_out)"
   ]
  },
  {
   "cell_type": "code",
   "execution_count": 50,
   "metadata": {},
   "outputs": [
    {
     "data": {
      "text/plain": [
       "[<matplotlib.lines.Line2D at 0x16a155070>]"
      ]
     },
     "execution_count": 50,
     "metadata": {},
     "output_type": "execute_result"
    },
    {
     "data": {
      "image/png": "[encoded data removed]",
      "text/plain": [
       "<Figure size 640x480 with 1 Axes>"
      ]
     },
     "metadata": {},
     "output_type": "display_data"
    }
   ],
   "source": [
    "t = np.arange(len(fewWF)) * dt\n",
    "\n",
    "plt.plot(fewWF.real[-100:])\n",
    "\n",
    "t2 = np.arange(len(fewDSWF))*dt\n",
    "plt.plot(fewDSWF.real[-100:])"
   ]
  },
  {
   "cell_type": "code",
   "execution_count": 51,
   "metadata": {},
   "outputs": [
    {
     "data": {
      "text/plain": [
       "np.float64(5.4219910065711474e-05)"
      ]
     },
     "execution_count": 51,
     "metadata": {},
     "output_type": "execute_result"
    }
   ],
   "source": [
    "get_mismatch(fewWF, fewDSWF)"
   ]
  },
  {
   "cell_type": "markdown",
   "metadata": {},
   "source": [
    "So from what we see here, we can get mistmatches across the parameter space but each waveform takes minutes on CPUs with large eccentricities. "
   ]
  },
  {
   "cell_type": "markdown",
   "metadata": {},
   "source": [
    "Another good plot would be finding the max error of the two flux interpolants as a function of n and checking that it follows $2^{-4 n}$"
   ]
  },
  {
   "cell_type": "markdown",
   "metadata": {},
   "source": []
  },
  {
   "cell_type": "code",
   "execution_count": 52,
   "metadata": {},
   "outputs": [],
   "source": [
    "# Let's try and get some information about the grid\n",
    "import h5py\n",
    "from few.utils.globals import get_file_manager\n",
    "\n",
    "fp = \"KerrEccEqFluxData.h5\"\n",
    "fm = get_file_manager()\n",
    "file_path = fm.get_file(fp)"
   ]
  },
  {
   "cell_type": "code",
   "execution_count": 55,
   "metadata": {},
   "outputs": [
    {
     "data": {
      "text/plain": [
       "PosixPath('/Users/philip/Documents/Codes/FastEMRIWaveforms-Soton-Hackathon-2025/src/few/data/KerrEccEqFluxData.h5')"
      ]
     },
     "execution_count": 55,
     "metadata": {},
     "output_type": "execute_result"
    }
   ],
   "source": [
    "file_path"
   ]
  },
  {
   "cell_type": "code",
   "execution_count": 56,
   "metadata": {},
   "outputs": [
    {
     "name": "stdout",
     "output_type": "stream",
     "text": [
      "Region A: NU = 129, NW = 65, NZ = 65\n",
      "Region B: NU = 65, NW = 33, NZ = 33\n"
     ]
    }
   ],
   "source": [
    "with h5py.File(file_path, \"r\") as fluxData:\n",
    "            regionA = fluxData[\"regionA\"]\n",
    "            regionB = fluxData[\"regionB\"]\n",
    "\n",
    "            nxa = regionA.attrs[\"NU\"]\n",
    "            nya = regionA.attrs[\"NW\"]\n",
    "            nza = regionA.attrs[\"NZ\"]\n",
    "\n",
    "            nxb = regionB.attrs[\"NU\"]\n",
    "            nyb = regionB.attrs[\"NW\"]\n",
    "            nzb = regionB.attrs[\"NZ\"]\n",
    "\n",
    "            print(\"Region A: NU = {}, NW = {}, NZ = {}\".format(nxa, nya, nza))\n",
    "            print(\"Region B: NU = {}, NW = {}, NZ = {}\".format(nxb, nyb, nzb))\n",
    "\n"
   ]
  },
  {
   "cell_type": "code",
   "execution_count": 58,
   "metadata": {},
   "outputs": [
    {
     "data": {
      "text/plain": [
       "129"
      ]
     },
     "execution_count": 58,
     "metadata": {},
     "output_type": "execute_result"
    }
   ],
   "source": [
    "2**7 +1"
   ]
  },
  {
   "cell_type": "code",
   "execution_count": 66,
   "metadata": {},
   "outputs": [
    {
     "data": {
      "text/plain": [
       "17"
      ]
     },
     "execution_count": 66,
     "metadata": {},
     "output_type": "execute_result"
    }
   ],
   "source": [
    "len(np.linspace(0, 1, nxa)[:: 8])"
   ]
  },
  {
   "cell_type": "code",
   "execution_count": 69,
   "metadata": {},
   "outputs": [
    {
     "name": "stdout",
     "output_type": "stream",
     "text": [
      "1 2\n",
      "2 4\n",
      "3 8\n",
      "4 16\n",
      "5 32\n",
      "6 64\n",
      "7 128\n"
     ]
    }
   ],
   "source": [
    "for i in range(1, 8):\n",
    "    print(i, 2**i)"
   ]
  },
  {
   "cell_type": "markdown",
   "metadata": {},
   "source": [
    "To keep things simple, let's just downsample by 2,4,8, and 16, though that last one will probably be garbage. The standalone plot will be complicated, but we should just start doing the histogram plot first since that's more straightforward ~ 1000 inspirals. We can then ask if they want mismatches, at which point I'm going to need some GPUs."
   ]
  },
  {
   "cell_type": "markdown",
   "metadata": {},
   "source": [
    "## Histogram of Dephasings"
   ]
  },
  {
   "cell_type": "markdown",
   "metadata": {},
   "source": [
    "Dephaing is much quicker to calculate, so let's use that to practice. If we need mismatches, we are probably going to need cluster and GPU acess. "
   ]
  },
  {
   "cell_type": "code",
   "execution_count": 102,
   "metadata": {},
   "outputs": [],
   "source": [
    "import matplotlib.pyplot as plt\n",
    "import numpy as np\n",
    "from few.trajectory.inspiral import EMRIInspiral\n",
    "from tqdm import tqdm\n",
    "from numpy.random import seed, uniform, randint\n",
    "import time\n",
    "\n",
    "from few.utils.constants import YRSID_SI\n",
    "\n",
    "#Importing Flux Trajectory\n",
    "from few.trajectory.ode import KerrEccEqFlux\n",
    "from few.utils.utility import get_p_at_t"
   ]
  },
  {
   "cell_type": "code",
   "execution_count": 115,
   "metadata": {},
   "outputs": [],
   "source": [
    "full_flux = EMRIInspiral(func=KerrEccEqFlux)"
   ]
  },
  {
   "cell_type": "code",
   "execution_count": 127,
   "metadata": {},
   "outputs": [],
   "source": [
    "skip_points = 2\n",
    "downsampled_2 = EMRIInspiral(func=KerrEccEqFlux, downsample=[(skip_points, skip_points, skip_points), (skip_points, skip_points, skip_points)])"
   ]
  },
  {
   "cell_type": "code",
   "execution_count": 128,
   "metadata": {},
   "outputs": [],
   "source": [
    "skip_points = 4\n",
    "downsampled_4 = EMRIInspiral(func=KerrEccEqFlux,downsample=[(skip_points, skip_points, skip_points), (skip_points, skip_points, skip_points)])"
   ]
  },
  {
   "cell_type": "code",
   "execution_count": 129,
   "metadata": {},
   "outputs": [],
   "source": [
    "skip_points = 8\n",
    "downsampled_8 = EMRIInspiral(func=KerrEccEqFlux,downsample=[(skip_points, skip_points, skip_points), (skip_points, skip_points, skip_points)])"
   ]
  },
  {
   "cell_type": "code",
   "execution_count": null,
   "metadata": {},
   "outputs": [],
   "source": [
    "# Jonathan's randomised parameters code\n",
    "\n",
    "def gen_parameters(NEVAL, duration, seed_in=314159):\n",
    "\n",
    "    traj_module = EMRIInspiral(func=KerrEccEqFlux)\n",
    "\n",
    "    M_range = [1E5, 1E7]\n",
    "    mu_range = [1,1E2]\n",
    "    a_range = [-0.999, 0.999]\n",
    "    e_range = [0.0, 0.9]\n",
    "\n",
    "    x0 = 1.0  # will be ignored in Schwarzschild waveform\n",
    "\n",
    "    _base_params = [\n",
    "        1E5, # M\n",
    "        10,  # mu\n",
    "        0.0, # a\n",
    "        0.0, # p0\n",
    "        0.0, # e0\n",
    "        x0,  # x0\n",
    "    ]\n",
    "\n",
    "    seed(seed_in)\n",
    "    M_seed, mu_seed, a_seed, e_seed = randint(1E3, 1E5, size=4)\n",
    "\n",
    "    seed(M_seed)\n",
    "    M_list = uniform(low=M_range[0], high=M_range[1], size=NEVAL)\n",
    "    seed(mu_seed)\n",
    "    mu_list = uniform(low=mu_range[0], high=mu_range[1], size=NEVAL)\n",
    "    seed(a_seed)\n",
    "    a_list = uniform(low=a_range[0], high=a_range[1], size=NEVAL)\n",
    "    seed(e_seed)\n",
    "    e_list = uniform(low=e_range[0], high=e_range[1], size=NEVAL)\n",
    "\n",
    "    output_params_list = []\n",
    "    failed_params_list = []\n",
    "\n",
    "    for i, (M, mu, a, e) in enumerate(zip(\n",
    "        M_list,\n",
    "        mu_list,\n",
    "        a_list,\n",
    "        e_list,\n",
    "    )):\n",
    "\n",
    "        try:\n",
    "            # print(f\"{i+1}:\\t{M}, {mu}, {a}, {e}\")\n",
    "            updated_params = _base_params.copy()\n",
    "\n",
    "            updated_params[0] = M\n",
    "            updated_params[1] = mu\n",
    "            updated_params[2] = a\n",
    "            updated_params[4] = e\n",
    "            updated_params[3] = get_p_at_t(\n",
    "                traj_module,\n",
    "                duration * 0.99,\n",
    "                [updated_params[0], updated_params[1], updated_params[2], updated_params[4], 1.0],\n",
    "                index_of_p=3,\n",
    "                index_of_a=2,\n",
    "                index_of_e=4,\n",
    "                index_of_x=5,\n",
    "                traj_kwargs={},\n",
    "                xtol=2e-6,\n",
    "                rtol=8.881784197001252e-6,\n",
    "            )\n",
    "\n",
    "            output_params_list.append(\n",
    "                updated_params.copy()\n",
    "            )\n",
    "        except ValueError:\n",
    "            failed_params_list.append([M, mu, a, e, duration])\n",
    "\n",
    "    return output_params_list, failed_params_list"
   ]
  },
  {
   "cell_type": "code",
   "execution_count": 203,
   "metadata": {},
   "outputs": [
    {
     "name": "stdout",
     "output_type": "stream",
     "text": [
      "1:\t7528789.672533787, 18.599958825030917, -0.2485878204509888, 0.83726948312581\n",
      "2:\t1281947.9377273768, 92.01630239858038, -0.08299699104745162, 0.44360966342249175\n",
      "3:\t6470770.719597565, 49.67224503303586, 0.33281313272540575, 0.4493765957762273\n",
      "4:\t334030.98578656407, 90.83657940236353, -0.4613139858838705, 0.13735398246421743\n",
      "5:\t9817473.768935325, 45.76450633996533, -0.46448154797934305, 0.18271605266570837\n",
      "6:\t4606459.965995781, 29.45151649024766, -0.18921559110232566, 0.40523908320809615\n",
      "7:\t5833629.230585137, 83.39670647878175, 0.36730262369998734, 0.19111824055192203\n",
      "8:\t5724335.498577699, 62.908418022182175, 0.8307974148439659, 0.2991648717751817\n",
      "9:\t9078585.17403247, 26.97613474863217, 0.618262064243729, 0.6537540018017322\n",
      "10:\t7795387.1860655155, 87.13229704536666, -0.269377375823748, 0.7092513021346759\n",
      "11:\t7777048.420717323, 81.37367062803811, -0.8588684769404039, 0.08022358003797483\n",
      "12:\t984136.430075891, 97.97347897464758, 0.02745498272978889, 0.8165732157856219\n",
      "13:\t118067.84680330544, 78.91692673332402, -0.24751867872172106, 0.3865249659987268\n",
      "14:\t1067859.10810472, 11.196047828655194, -0.03550889882070203, 0.39696568806867144\n",
      "15:\t9301812.744563673, 96.41899229950265, -0.49949913427751325, 0.13604294063707797\n",
      "16:\t711304.9464367304, 58.25890312924321, -0.10836334560050763, 0.7261713155736786\n",
      "17:\t7450971.963367575, 5.210125963504437, 0.6747712137823362, 0.10637743238429243\n",
      "18:\t4414730.879844922, 21.870219294395948, 0.6637298378879706, 0.04535254387656993\n",
      "19:\t3218491.1263205474, 50.65171213958657, -0.5703476107289841, 0.5322158174219663\n",
      "20:\t6942525.8431558525, 41.725273244616936, 0.9874983268392601, 0.7569666102287386\n",
      "21:\t5423946.552566221, 5.090172604347133, -0.9802239713321493, 0.12457481287977536\n",
      "22:\t3978982.441574829, 56.81972208460184, -0.030666217702384747, 0.019963122337486428\n",
      "23:\t7875528.845400005, 95.35137111451382, -0.08401758996172629, 0.3787091356767981\n",
      "24:\t7988376.079829499, 47.29185296333602, 0.30482418827491553, 0.30786942098602177\n",
      "25:\t200623.20277548902, 94.48055322777458, 0.7229669698214469, 0.7238019005497658\n",
      "26:\t8168309.407980127, 8.402983262628876, -0.13593074312849945, 0.38204215210677833\n",
      "27:\t6340508.791530736, 56.81699937031571, -0.823273687141905, 0.3798321238727642\n",
      "28:\t7943178.303581503, 43.785465907219184, 0.26696011878737824, 0.6769209441308408\n",
      "29:\t4284338.5025222935, 2.8714566167958524, 0.9959516875282145, 0.05662226081913433\n",
      "30:\t8568691.012587441, 92.83961333039043, -0.8283825377785038, 0.08226104996250987\n",
      "31:\t5509774.323380563, 19.885262182602006, 0.9646803627890539, 0.7460352915135148\n",
      "32:\t4554975.694018982, 61.981077470817176, -0.49622698523053876, 0.3514882820946318\n",
      "33:\t8669692.089181064, 10.834879562889146, -0.883853511719004, 0.7630098146354095\n",
      "34:\t6370004.079889291, 41.10647047655793, 0.5063690218351079, 0.34181239701023436\n",
      "35:\t6571160.714619664, 26.475247752315507, -0.247067571068229, 0.20020072238923273\n",
      "36:\t6855097.775232571, 36.48563117531386, -0.9509935926927742, 0.592832381958469\n",
      "37:\t2249830.66744042, 28.070237709389765, -0.6358751172090448, 0.7593507024227133\n",
      "38:\t2705988.4640431707, 6.8254018293895875, -0.4625110507574221, 0.5343961594719908\n",
      "39:\t6443936.037956958, 44.81529619231274, -0.6194002726033231, 0.6733647791881054\n",
      "40:\t2138068.7114437376, 8.797451801500904, 0.5191030252967848, 0.32961033641063264\n",
      "41:\t8243479.109827652, 23.98795609326456, 0.8949972690550224, 0.1839982375348202\n",
      "42:\t998464.3029210839, 94.21015379632111, -0.19278450364390495, 0.42226359819319303\n",
      "43:\t896986.8319904015, 4.7075641757273194, -0.07533368895505836, 0.09524000312973162\n",
      "44:\t7077758.472283341, 32.57996527273126, -0.2257216743072072, 0.20112916153516833\n",
      "45:\t1148307.4954019547, 99.0805179567711, 0.8986449529792505, 0.2860158344107682\n",
      "46:\t9838583.807717834, 84.75326822517917, 0.8704657952768869, 0.5056261392715067\n",
      "47:\t5810919.909069238, 87.22339230378164, -0.20348632972620773, 0.22384458412191977\n",
      "48:\t5705666.339790066, 69.52080845472469, -0.2968763222223158, 0.31635603599150897\n",
      "49:\t5561568.209032654, 35.293501944996635, 0.6767264170621837, 0.4932084438198042\n",
      "50:\t4475752.477524991, 69.91759412454178, -0.801477017570486, 0.04610376145911843\n"
     ]
    }
   ],
   "source": [
    "traj_pars = gen_parameters(50, 4.0, seed_in=314159)[0]"
   ]
  },
  {
   "cell_type": "code",
   "execution_count": 213,
   "metadata": {},
   "outputs": [],
   "source": [
    "dephasings = np.zeros([len(traj_pars),3])\n",
    "\n",
    "for i in range(len(traj_pars)):\n",
    "\n",
    "    # print(f\"Trajectory {i+1} of {len(traj_pars)}\")\n",
    "    t, p, e, xI, Phi_phi, Phi_theta, Phi_r  = full_flux(*traj_pars[i], T=T,err=1e-12)\n",
    "    t2, p2, e2, xI2, Phi_phi2, Phi_theta2, Phi_r2  = downsampled_2(*traj_pars[i], T=T,err=1e-12)\n",
    "    t4, p4, e4, xI4, Phi_phi4, Phi_theta4, Phi_r4  = downsampled_4(*traj_pars[i], T=T,err=1e-12)\n",
    "    t8, p8, e8, xI8, Phi_phi8, Phi_theta8, Phi_r8  = downsampled_8(*traj_pars[i], T=T,err=1e-12)\n",
    "\n",
    "    dephasings[i,0] = np.log10(np.abs(Phi_phi[-1] - Phi_phi2[-1]))\n",
    "    dephasings[i,1] = np.log10(np.abs(Phi_phi[-1] - Phi_phi4[-1]))\n",
    "    dephasings[i,2] = np.log10(np.abs(Phi_phi[-1] - Phi_phi8[-1]))\n",
    "\n"
   ]
  },
  {
   "cell_type": "code",
   "execution_count": 215,
   "metadata": {},
   "outputs": [
    {
     "data": {
      "image/png": "[encoded data removed]",
      "text/plain": [
       "<Figure size 640x480 with 1 Axes>"
      ]
     },
     "metadata": {},
     "output_type": "display_data"
    }
   ],
   "source": [
    "bins = np.arange(-4,4.5,0.25)\n",
    "import seaborn as sns\n",
    "colorblind_palette = sns.color_palette('colorblind')\n",
    "import matplotlib.colors as mcolors\n",
    "\n",
    "colorblind_hex = [mcolors.to_hex(color) for color in colorblind_palette]\n",
    "\n",
    "plt.rcParams[\"text.usetex\"] = True\n",
    "plt.rcParams[\"font.family\"] = \"serif\"\n",
    "plt.rcParams[\"font.serif\"] = [\"Computer Modern\"]\n",
    "\n",
    "plt.hist(dephasings[:,0], bins=bins, histtype='stepfilled', facecolor='none', edgecolor=colorblind_hex[0], linewidth=2, label=\"1/2 grid points\")\n",
    "plt.hist(dephasings[:,1], bins=bins, histtype='stepfilled',facecolor='none', edgecolor=colorblind_hex[1], linewidth=2, label=\"1/4 grid points\")\n",
    "plt.hist(dephasings[:,2], bins=bins, histtype='stepfilled',facecolor='none', edgecolor=colorblind_hex[2], linewidth=2, label=\"1/8 grid points\")\n",
    "\n",
    "# Compute medians\n",
    "median1 = np.median(dephasings[:,0])\n",
    "median2 = np.median(dephasings[:,1])\n",
    "median3 = np.median(dephasings[:,2])\n",
    "\n",
    "# Add vertical lines at the medians\n",
    "plt.axvline(median1, color=colorblind_hex[0], linestyle='dashed', linewidth=1)\n",
    "plt.axvline(median2, color=colorblind_hex[1], linestyle='dashed', linewidth=1)\n",
    "plt.axvline(median3, color=colorblind_hex[2], linestyle='dashed', linewidth=1)\n",
    "\n",
    "\n",
    "plt.xlabel(r'$\\log_{10}(\\Delta \\Phi_{\\phi})$')\n",
    "plt.ylabel(\"Count\")\n",
    "#plt.title(\"Dephasing after 4 years as a function of downsampling factor\")\n",
    "plt.legend()\n",
    "plt.savefig(\"DownsampledFluxesHistogram.pdf\")\n",
    "plt.show()"
   ]
  },
  {
   "cell_type": "code",
   "execution_count": null,
   "metadata": {},
   "outputs": [],
   "source": []
  }
 ],
 "metadata": {
  "kernelspec": {
   "display_name": "few_soton",
   "language": "python",
   "name": "python3"
  },
  "language_info": {
   "codemirror_mode": {
    "name": "ipython",
    "version": 3
   },
   "file_extension": ".py",
   "mimetype": "text/x-python",
   "name": "python",
   "nbconvert_exporter": "python",
   "pygments_lexer": "ipython3",
   "version": "3.12.9"
  }
 },
 "nbformat": 4,
 "nbformat_minor": 2
}
